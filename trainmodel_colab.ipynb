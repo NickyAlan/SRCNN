{
  "cells": [
    {
      "cell_type": "markdown",
      "metadata": {
        "colab_type": "text",
        "id": "view-in-github"
      },
      "source": [
        "<a href=\"https://colab.research.google.com/github/NickygenN1/SRCNN/blob/main/trainmodel_colab.ipynb\" target=\"_parent\"><img src=\"https://colab.research.google.com/assets/colab-badge.svg\" alt=\"Open In Colab\"/></a>"
      ]
    },
    {
      "cell_type": "code",
      "execution_count": 5,
      "metadata": {
        "colab": {
          "base_uri": "https://localhost:8080/"
        },
        "id": "o7kuuCthoP2_",
        "outputId": "5e703f85-1a67-438a-ea35-12ab55780a3b"
      },
      "outputs": [
        {
          "name": "stdout",
          "output_type": "stream",
          "text": [
            "Drive already mounted at /content/drive; to attempt to forcibly remount, call drive.mount(\"/content/drive\", force_remount=True).\n"
          ]
        }
      ],
      "source": [
        "import os\n",
        "from google.colab import drive\n",
        "drive.mount('/content/drive')\n",
        "\n",
        "os.chdir('/content/drive/MyDrive/SRCNN')"
      ]
    },
    {
      "cell_type": "code",
      "execution_count": 14,
      "metadata": {
        "id": "FokNXvuooZ2l"
      },
      "outputs": [],
      "source": [
        "import torch\n",
        "from torch import nn\n",
        "from dataset import train_dataloader\n",
        "from train import train_model\n",
        "from model import SRCNN\n",
        "import matplotlib.pyplot as plt"
      ]
    },
    {
      "cell_type": "code",
      "execution_count": null,
      "metadata": {
        "id": "4dsoyx5-oaPr"
      },
      "outputs": [],
      "source": [
        "device = 'cuda' if torch.cuda.is_available() else 'cpu'\n",
        "\n",
        "SRCNN_Model = SRCNN(in_channels=3)\n",
        "model = SRCNN(in_channels=3).to(device)\n",
        "optimizer = torch.optim.Adam(params=model.parameters(), lr=0.001)\n",
        "loss_fn = nn.MSELoss()\n",
        "scheduler = torch.optim.lr_scheduler.ReduceLROnPlateau(optimizer, factor=0.09, patience=10)\n",
        "result = train_model(model, train_dataloader, optimizer, loss_fn, scheduler, epochs=1000)"
      ]
    },
    {
      "cell_type": "code",
      "execution_count": 27,
      "metadata": {
        "colab": {
          "base_uri": "https://localhost:8080/",
          "height": 295
        },
        "id": "8r2URHnwp5fa",
        "outputId": "cb83be72-27e3-4fcc-f348-b063b2300ce3"
      },
      "outputs": [
        {
          "data": {
            "image/png": "[encoded data removed]",
            "text/plain": [
              "<Figure size 432x288 with 1 Axes>"
            ]
          },
          "metadata": {
            "needs_background": "light"
          },
          "output_type": "display_data"
        }
      ],
      "source": [
        "plt.plot([_ for _ in range(1000)], result['train_loss']);\n",
        "plt.title('loss for training set')\n",
        "plt.xlabel('epochs')\n",
        "plt.ylabel('loss');"
      ]
    }
  ],
  "metadata": {
    "accelerator": "GPU",
    "colab": {
      "authorship_tag": "ABX9TyN8DNfMOVY2ILJ6Eaq3OZl6",
      "include_colab_link": true,
      "mount_file_id": "17SQONpCy1XrFKqA_Y1KgtfpAybQ_6t0j",
      "provenance": []
    },
    "kernelspec": {
      "display_name": "Python 3.10.0 64-bit",
      "language": "python",
      "name": "python3"
    },
    "language_info": {
      "name": "python",
      "version": "3.10.0"
    },
    "vscode": {
      "interpreter": {
        "hash": "63e79917a05e390872358bfb73c58bc903ada01d2d04077091749088207d82cf"
      }
    }
  },
  "nbformat": 4,
  "nbformat_minor": 0
}
